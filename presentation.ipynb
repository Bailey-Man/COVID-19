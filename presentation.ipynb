{
  "nbformat": 4,
  "nbformat_minor": 0,
  "metadata": {
    "colab": {
      "name": "presentation.ipynb",
      "provenance": [],
      "authorship_tag": "ABX9TyOgm1DEx/qP84Y7QuVqWI1M",
      "include_colab_link": true
    },
    "kernelspec": {
      "name": "python3",
      "display_name": "Python 3"
    }
  },
  "cells": [
    {
      "cell_type": "markdown",
      "metadata": {
        "id": "view-in-github",
        "colab_type": "text"
      },
      "source": [
        "<a href=\"https://colab.research.google.com/github/Bailey-Man/COVID-19/blob/master/presentation.ipynb\" target=\"_parent\"><img src=\"https://colab.research.google.com/assets/colab-badge.svg\" alt=\"Open In Colab\"/></a>"
      ]
    },
    {
      "cell_type": "code",
      "metadata": {
        "id": "1kFfrTfkS8-H"
      },
      "source": [
        "# import necessary modules\n",
        "import numpy as np\n",
        "import pandas as pd\n",
        "import csv\n",
        "import matplotlib.pyplot as plt\n",
        "import json"
      ],
      "execution_count": 1,
      "outputs": []
    },
    {
      "cell_type": "code",
      "metadata": {
        "id": "On3Zq3fAjks4",
        "outputId": "2f823bc7-857d-45c0-e59a-d4b4742b5a24",
        "colab": {
          "base_uri": "https://localhost:8080/",
          "height": 351
        }
      },
      "source": [
        "# import data\n",
        "df = pd.read_csv('/content/sample_data/POI_with_risk_streets_2.csv')\n",
        "df.head()"
      ],
      "execution_count": 3,
      "outputs": [
        {
          "output_type": "execute_result",
          "data": {
            "text/html": [
              "<div>\n",
              "<style scoped>\n",
              "    .dataframe tbody tr th:only-of-type {\n",
              "        vertical-align: middle;\n",
              "    }\n",
              "\n",
              "    .dataframe tbody tr th {\n",
              "        vertical-align: top;\n",
              "    }\n",
              "\n",
              "    .dataframe thead th {\n",
              "        text-align: right;\n",
              "    }\n",
              "</style>\n",
              "<table border=\"1\" class=\"dataframe\">\n",
              "  <thead>\n",
              "    <tr style=\"text-align: right;\">\n",
              "      <th></th>\n",
              "      <th>dba_name</th>\n",
              "      <th>postal_code</th>\n",
              "      <th>poi_cbg</th>\n",
              "      <th>visitor_home_cbgs</th>\n",
              "      <th>visitor_daytime_cbgs</th>\n",
              "      <th>naics_description</th>\n",
              "      <th>address</th>\n",
              "      <th>Incoming_Visitor_home_census_blocks</th>\n",
              "      <th>POI_risk_final</th>\n",
              "    </tr>\n",
              "  </thead>\n",
              "  <tbody>\n",
              "    <tr>\n",
              "      <th>0</th>\n",
              "      <td>'TIL DEATH TATTOO</td>\n",
              "      <td>92113</td>\n",
              "      <td>6.073003e+10</td>\n",
              "      <td>{}</td>\n",
              "      <td>{}</td>\n",
              "      <td>TATTOO PARLORS - BOOTH RENTAL</td>\n",
              "      <td>LOGAN AVE</td>\n",
              "      <td>{}</td>\n",
              "      <td>0.000000</td>\n",
              "    </tr>\n",
              "    <tr>\n",
              "      <th>1</th>\n",
              "      <td>(W)RIGHT ON COMMUNICATIONS INC</td>\n",
              "      <td>92037</td>\n",
              "      <td>6.073008e+10</td>\n",
              "      <td>{\"060730178113\":4,\"530610532023\":4,\"0605905252...</td>\n",
              "      <td>{\"060730085061\":4,\"040131048011\":4,\"5305307340...</td>\n",
              "      <td>PUBLIC RELATIONS AGENCIES</td>\n",
              "      <td>PROSPECT ST</td>\n",
              "      <td>{'06073017811': 4, '53061053202': 4, '06059052...</td>\n",
              "      <td>0.111909</td>\n",
              "    </tr>\n",
              "    <tr>\n",
              "      <th>2</th>\n",
              "      <td>1 A LIVESCAN SAN DIEGO</td>\n",
              "      <td>92116</td>\n",
              "      <td>6.073002e+10</td>\n",
              "      <td>{\"060730017003\":4,\"060730170212\":4}</td>\n",
              "      <td>{\"060730170542\":4,\"060590525274\":4,\"0606504180...</td>\n",
              "      <td>ALL OTH PROF, SCIENTIFIC &amp; TECHNICAL SERVICES</td>\n",
              "      <td>ADAMS AVE</td>\n",
              "      <td>{'06073001700': 4, '06073017021': 4}</td>\n",
              "      <td>0.286002</td>\n",
              "    </tr>\n",
              "    <tr>\n",
              "      <th>3</th>\n",
              "      <td>1 AMERICAN LIVESCAN</td>\n",
              "      <td>92123</td>\n",
              "      <td>6.073009e+10</td>\n",
              "      <td>{\"060730092011\":5,\"060730095051\":4,\"0607301330...</td>\n",
              "      <td>{\"060730034042\":5,\"060730031033\":4,\"0607300970...</td>\n",
              "      <td>INVESTIGATION SERVICES</td>\n",
              "      <td>MURPHY CANYON RD</td>\n",
              "      <td>{'06073009201': 5, '06073009505': 4, '06073013...</td>\n",
              "      <td>0.814788</td>\n",
              "    </tr>\n",
              "    <tr>\n",
              "      <th>4</th>\n",
              "      <td>113FM RADIO NETWORK</td>\n",
              "      <td>92101</td>\n",
              "      <td>6.073005e+10</td>\n",
              "      <td>{\"060730052002\":4,\"060650427281\":4}</td>\n",
              "      <td>{\"060730052001\":5,\"060730170421\":4,\"3200300341...</td>\n",
              "      <td>BROADCASTING &amp; TELECOMMUNICATIONS</td>\n",
              "      <td>15TH ST</td>\n",
              "      <td>{'06073005200': 4, '06065042728': 4}</td>\n",
              "      <td>0.449672</td>\n",
              "    </tr>\n",
              "  </tbody>\n",
              "</table>\n",
              "</div>"
            ],
            "text/plain": [
              "                         dba_name  ...  POI_risk_final\n",
              "0               'TIL DEATH TATTOO  ...        0.000000\n",
              "1  (W)RIGHT ON COMMUNICATIONS INC  ...        0.111909\n",
              "2          1 A LIVESCAN SAN DIEGO  ...        0.286002\n",
              "3             1 AMERICAN LIVESCAN  ...        0.814788\n",
              "4             113FM RADIO NETWORK  ...        0.449672\n",
              "\n",
              "[5 rows x 9 columns]"
            ]
          },
          "metadata": {
            "tags": []
          },
          "execution_count": 3
        }
      ]
    },
    {
      "cell_type": "code",
      "metadata": {
        "id": "O7hTBPHOkJ4k"
      },
      "source": [
        "# Closer Look & Justification of SafeGraph Cell Data (ETHICS)"
      ],
      "execution_count": 4,
      "outputs": []
    },
    {
      "cell_type": "code",
      "metadata": {
        "id": "LBKRi9i1kbB8"
      },
      "source": [
        "# Discuss Address String Matching (2 datasets- one by POI, one by business license, both tied only to address)"
      ],
      "execution_count": 5,
      "outputs": []
    },
    {
      "cell_type": "code",
      "metadata": {
        "id": "KJ5Bcbj8kiyl"
      },
      "source": [
        "# plot value_counts of naics_description"
      ],
      "execution_count": 6,
      "outputs": []
    },
    {
      "cell_type": "code",
      "metadata": {
        "id": "DOIWBJc1kl_X"
      },
      "source": [
        "# plot number of POIs in each zip code- bin? depends on visibility"
      ],
      "execution_count": 7,
      "outputs": []
    },
    {
      "cell_type": "code",
      "metadata": {
        "id": "vRbFtwG5ks95"
      },
      "source": [
        "# DESCRIBE MODEL STEPS"
      ],
      "execution_count": 8,
      "outputs": []
    },
    {
      "cell_type": "code",
      "metadata": {
        "id": "4cZ5_WpolXkP"
      },
      "source": [
        "# Zip Population"
      ],
      "execution_count": 9,
      "outputs": []
    },
    {
      "cell_type": "code",
      "metadata": {
        "id": "40QdPzmElaec"
      },
      "source": [
        "# CBG -> CB"
      ],
      "execution_count": 10,
      "outputs": []
    },
    {
      "cell_type": "code",
      "metadata": {
        "id": "CvfFNvAvlcUE"
      },
      "source": [
        "# Zip codes -> CB"
      ],
      "execution_count": 11,
      "outputs": []
    },
    {
      "cell_type": "code",
      "metadata": {
        "id": "dd-ClRwOleHN"
      },
      "source": [
        "# POI relation to CB"
      ],
      "execution_count": 12,
      "outputs": []
    },
    {
      "cell_type": "code",
      "metadata": {
        "id": "yyrM455mlghm"
      },
      "source": [
        "# RISK HISTOGRAM FOR SANITY"
      ],
      "execution_count": 13,
      "outputs": []
    },
    {
      "cell_type": "markdown",
      "metadata": {
        "id": "7i6FgOqZloES"
      },
      "source": [
        "References:\n",
        "\n",
        "Georgia Tech: \n",
        "\n",
        "Yelp Dataset (and why we couldn't use it in section below):\n",
        "\n",
        "Business Licenses:\n",
        "\n",
        "Ilya Zaslavsky Lightning Talk highlighting other projects:\n",
        "\n",
        "SafeGraph Cellular Data:"
      ]
    },
    {
      "cell_type": "code",
      "metadata": {
        "id": "ONISlMZzlqH5"
      },
      "source": [
        ""
      ],
      "execution_count": null,
      "outputs": []
    }
  ]
}